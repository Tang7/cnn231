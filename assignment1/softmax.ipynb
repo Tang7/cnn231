{
 "worksheets": [
  {
   "cells": [
    {
     "cell_type": "markdown",
     "metadata": {},
     "source": [
      "# Softmax exercise\n",
      "\n",
      "*Complete and hand in this completed worksheet (including its outputs and any supporting code outside of the worksheet) with your assignment submission. For more details see the [assignments page](http://vision.stanford.edu/teaching/cs231n/assignments.html) on the course website.*\n",
      "\n",
      "This exercise is analogous to the SVM exercise. You will:\n",
      "\n",
      "- implement a fully-vectorized **loss function** for the Softmax classifier\n",
      "- implement the fully-vectorized expression for its **analytic gradient**\n",
      "- **check your implementation** with numerical gradient\n",
      "- use a validation set to **tune the learning rate and regularization** strength\n",
      "- **optimize** the loss function with **SGD**\n",
      "- **visualize** the final learned weights\n"
     ]
    },
    {
     "cell_type": "code",
     "execution_count": null,
     "metadata": {},
     "outputs": [],
     "input": [
      "import random\n",
      "import numpy as np\n",
      "from cs231n.data_utils import load_CIFAR10\n",
      "import matplotlib.pyplot as plt\n",
      "%matplotlib inline\n",
      "plt.rcParams['figure.figsize'] = (10.0, 8.0) # set default size of plots\n",
      "plt.rcParams['image.interpolation'] = 'nearest'\n",
      "plt.rcParams['image.cmap'] = 'gray'\n",
      "\n",
      "# for auto-reloading extenrnal modules\n",
      "# see http://stackoverflow.com/questions/1907993/autoreload-of-modules-in-ipython\n",
      "%load_ext autoreload\n",
      "%autoreload 2"
     ],
     "language": "python",
     "prompt_number": 1
    },
    {
     "cell_type": "code",
     "execution_count": null,
     "metadata": {},
     "outputs": [
      {
       "output_type": "stream",
       "stream": "stdout",
       "text": [
        "Train data shape:  (3073, 49000)\nTrain labels shape:  (49000,)\nValidation data shape:  (3073, 1000)\nValidation labels shape:  (1000,)\nTest data shape:  (3073, 1000)\nTest labels shape:  (1000,)\n"
       ]
      }
     ],
     "input": [
      "def get_CIFAR10_data(num_training=49000, num_validation=1000, num_test=1000):\n",
      "  \"\"\"\n",
      "  Load the CIFAR-10 dataset from disk and perform preprocessing to prepare\n",
      "  it for the linear classifier. These are the same steps as we used for the\n",
      "  SVM, but condensed to a single function.  \n",
      "  \"\"\"\n",
      "  # Load the raw CIFAR-10 data\n",
      "  cifar10_dir = 'cs231n/datasets/cifar-10-batches-py'\n",
      "  X_train, y_train, X_test, y_test = load_CIFAR10(cifar10_dir)\n",
      "  \n",
      "  # subsample the data\n",
      "  mask = range(num_training, num_training + num_validation)\n",
      "  X_val = X_train[mask]\n",
      "  y_val = y_train[mask]\n",
      "  mask = range(num_training)\n",
      "  X_train = X_train[mask]\n",
      "  y_train = y_train[mask]\n",
      "  mask = range(num_test)\n",
      "  X_test = X_test[mask]\n",
      "  y_test = y_test[mask]\n",
      "  \n",
      "  # Preprocessing: reshape the image data into rows\n",
      "  X_train = np.reshape(X_train, (X_train.shape[0], -1))\n",
      "  X_val = np.reshape(X_val, (X_val.shape[0], -1))\n",
      "  X_test = np.reshape(X_test, (X_test.shape[0], -1))\n",
      "  \n",
      "  # Normalize the data: subtract the mean image\n",
      "  mean_image = np.mean(X_train, axis = 0)\n",
      "  X_train -= mean_image\n",
      "  X_val -= mean_image\n",
      "  X_test -= mean_image\n",
      "  \n",
      "  # add bias dimension and transform into columns\n",
      "  X_train = np.hstack([X_train, np.ones((X_train.shape[0], 1))]).T\n",
      "  X_val = np.hstack([X_val, np.ones((X_val.shape[0], 1))]).T\n",
      "  X_test = np.hstack([X_test, np.ones((X_test.shape[0], 1))]).T\n",
      "  \n",
      "  return X_train, y_train, X_val, y_val, X_test, y_test\n",
      "\n",
      "\n",
      "# Invoke the above function to get our data.\n",
      "X_train, y_train, X_val, y_val, X_test, y_test = get_CIFAR10_data()\n",
      "print 'Train data shape: ', X_train.shape\n",
      "print 'Train labels shape: ', y_train.shape\n",
      "print 'Validation data shape: ', X_val.shape\n",
      "print 'Validation labels shape: ', y_val.shape\n",
      "print 'Test data shape: ', X_test.shape\n",
      "print 'Test labels shape: ', y_test.shape"
     ],
     "language": "python",
     "prompt_number": 2
    },
    {
     "cell_type": "markdown",
     "metadata": {},
     "source": [
      "## Softmax Classifier\n",
      "\n",
      "Your code for this section will all be written inside **cs231n/classifiers/softmax.py**. \n"
     ]
    },
    {
     "cell_type": "code",
     "execution_count": null,
     "metadata": {},
     "outputs": [
      {
       "output_type": "stream",
       "stream": "stdout",
       "text": [
        "loss: 2.347514\nsanity check: 2.302585\n"
       ]
      }
     ],
     "input": [
      "# First implement the naive softmax loss function with nested loops.\n",
      "# Open the file cs231n/classifiers/softmax.py and implement the\n",
      "# softmax_loss_naive function.\n",
      "\n",
      "from cs231n.classifiers.softmax import softmax_loss_naive\n",
      "import time\n",
      "\n",
      "# Generate a random softmax weight matrix and use it to compute the loss.\n",
      "W = np.random.randn(10, 3073) * 0.0001\n",
      "loss, grad = softmax_loss_naive(W, X_train, y_train, 0.0)\n",
      "\n",
      "# As a rough sanity check, our loss should be something close to -log(0.1).\n",
      "print 'loss: %f' % loss\n",
      "print 'sanity check: %f' % (-np.log(0.1))"
     ],
     "language": "python",
     "prompt_number": 10
    },
    {
     "cell_type": "markdown",
     "metadata": {},
     "source": [
      "## Inline Question 1:\n",
      "Why do we expect our loss to be close to -log(0.1)? Explain briefly.**\n",
      "\n",
      "**Your answer:** *Fill this in*\n",
      "\n",
      "The loss is the negative expectation value of  the log of the probability np.exp(f[y_i])/ np.sum(np.exp(f))\n",
      "\n",
      "-E[log(p)] = -log(E[p]) \n",
      "\n",
      "because there are 10 classes, E[p] = 1/10, so that Loss = -log(0.1)"
     ]
    },
    {
     "cell_type": "code",
     "execution_count": null,
     "metadata": {},
     "outputs": [
      {
       "output_type": "stream",
       "stream": "stdout",
       "text": [
        "numerical: 0.488537 analytic: 0.488537, relative error: 2.688381e-08\nnumerical: -0.916748 analytic: -0.916748, relative error: 7.204471e-08"
       ]
      },
      {
       "output_type": "stream",
       "stream": "stdout",
       "text": [
        "\nnumerical: -1.996268 analytic: -1.996269, relative error: 2.546139e-08"
       ]
      },
      {
       "output_type": "stream",
       "stream": "stdout",
       "text": [
        "\nnumerical: 2.260449 analytic: 2.260449, relative error: 2.873784e-08"
       ]
      },
      {
       "output_type": "stream",
       "stream": "stdout",
       "text": [
        "\nnumerical: 1.880105 analytic: 1.880104, relative error: 3.823694e-08"
       ]
      },
      {
       "output_type": "stream",
       "stream": "stdout",
       "text": [
        "\nnumerical: 0.687907 analytic: 0.687907, relative error: 8.110750e-08"
       ]
      },
      {
       "output_type": "stream",
       "stream": "stdout",
       "text": [
        "\nnumerical: -2.152188 analytic: -2.152188, relative error: 3.183811e-08"
       ]
      },
      {
       "output_type": "stream",
       "stream": "stdout",
       "text": [
        "\nnumerical: 2.311247 analytic: 2.311247, relative error: 1.306980e-08"
       ]
      },
      {
       "output_type": "stream",
       "stream": "stdout",
       "text": [
        "\nnumerical: -3.737673 analytic: -3.737673, relative error: 1.379584e-08"
       ]
      },
      {
       "output_type": "stream",
       "stream": "stdout",
       "text": [
        "\nnumerical: -1.070643 analytic: -1.070643, relative error: 6.313810e-09"
       ]
      },
      {
       "output_type": "stream",
       "stream": "stdout",
       "text": [
        "\n"
       ]
      }
     ],
     "input": [
      "# Complete the implementation of softmax_loss_naive and implement a (naive)\n",
      "# version of the gradient that uses nested loops.\n",
      "loss, grad = softmax_loss_naive(W, X_train, y_train, 0.0)\n",
      "\n",
      "# As we did for the SVM, use numeric gradient checking as a debugging tool.\n",
      "# The numeric gradient should be close to the analytic gradient.\n",
      "from cs231n.gradient_check import grad_check_sparse\n",
      "f = lambda w: softmax_loss_naive(w, X_train, y_train, 0.0)[0]\n",
      "grad_numerical = grad_check_sparse(f, W, grad, 10)"
     ],
     "language": "python",
     "prompt_number": 11
    },
    {
     "cell_type": "code",
     "execution_count": null,
     "metadata": {},
     "outputs": [
      {
       "output_type": "stream",
       "stream": "stdout",
       "text": [
        "naive loss: 2.347514e+00 computed in 8.976038s\nvectorized loss: 2.347514e+00 computed in 0.281400s"
       ]
      },
      {
       "output_type": "stream",
       "stream": "stdout",
       "text": [
        "\nLoss difference: 0.000000\nGradient difference: 0.000000\n"
       ]
      }
     ],
     "input": [
      "# Now that we have a naive implementation of the softmax loss function and its gradient,\n",
      "# implement a vectorized version in softmax_loss_vectorized.\n",
      "# The two versions should compute the same results, but the vectorized version should be\n",
      "# much faster.\n",
      "tic = time.time()\n",
      "loss_naive, grad_naive = softmax_loss_naive(W, X_train, y_train, 0.00001)\n",
      "toc = time.time()\n",
      "print 'naive loss: %e computed in %fs' % (loss_naive, toc - tic)\n",
      "\n",
      "from cs231n.classifiers.softmax import softmax_loss_vectorized\n",
      "tic = time.time()\n",
      "loss_vectorized, grad_vectorized = softmax_loss_vectorized(W, X_train, y_train, 0.00001)\n",
      "toc = time.time()\n",
      "print 'vectorized loss: %e computed in %fs' % (loss_vectorized, toc - tic)\n",
      "\n",
      "# As we did for the SVM, we use the Frobenius norm to compare the two versions\n",
      "# of the gradient.\n",
      "grad_difference = np.linalg.norm(grad_naive - grad_vectorized, ord='fro')\n",
      "print 'Loss difference: %f' % np.abs(loss_naive - loss_vectorized)\n",
      "print 'Gradient difference: %f' % grad_difference"
     ],
     "language": "python",
     "prompt_number": 20
    },
    {
     "cell_type": "code",
     "execution_count": null,
     "metadata": {},
     "outputs": [
      {
       "output_type": "stream",
       "stream": "stdout",
       "text": [
        "iteration 0 / 1500: loss 15269.199448\niteration 100 / 1500: loss 15114.301552"
       ]
      },
      {
       "output_type": "stream",
       "stream": "stdout",
       "text": [
        "\niteration 200 / 1500: loss 15017.576139"
       ]
      },
      {
       "output_type": "stream",
       "stream": "stdout",
       "text": [
        "\niteration 300 / 1500: loss 14937.275455"
       ]
      },
      {
       "output_type": "stream",
       "stream": "stdout",
       "text": [
        "\niteration 400 / 1500: loss 14867.343059"
       ]
      },
      {
       "output_type": "stream",
       "stream": "stdout",
       "text": [
        "\niteration 500 / 1500: loss 14805.090092"
       ]
      },
      {
       "output_type": "stream",
       "stream": "stdout",
       "text": [
        "\niteration 600 / 1500: loss 14747.351652"
       ]
      },
      {
       "output_type": "stream",
       "stream": "stdout",
       "text": [
        "\niteration 700 / 1500: loss 14693.332959"
       ]
      },
      {
       "output_type": "stream",
       "stream": "stdout",
       "text": [
        "\niteration 800 / 1500: loss 14644.191758"
       ]
      },
      {
       "output_type": "stream",
       "stream": "stdout",
       "text": [
        "\niteration 900 / 1500: loss 14597.061745"
       ]
      },
      {
       "output_type": "stream",
       "stream": "stdout",
       "text": [
        "\niteration 1000 / 1500: loss 14552.028678"
       ]
      },
      {
       "output_type": "stream",
       "stream": "stdout",
       "text": [
        "\niteration 1100 / 1500: loss 14510.185209"
       ]
      },
      {
       "output_type": "stream",
       "stream": "stdout",
       "text": [
        "\niteration 1200 / 1500: loss 14470.487638"
       ]
      },
      {
       "output_type": "stream",
       "stream": "stdout",
       "text": [
        "\niteration 1300 / 1500: loss 14432.640107"
       ]
      },
      {
       "output_type": "stream",
       "stream": "stdout",
       "text": [
        "\niteration 1400 / 1500: loss 14395.217998"
       ]
      },
      {
       "output_type": "stream",
       "stream": "stdout",
       "text": [
        "\niteration 0 / 1500: loss 155024.774334"
       ]
      },
      {
       "output_type": "stream",
       "stream": "stdout",
       "text": [
        "\niteration 100 / 1500: loss 153408.128324"
       ]
      },
      {
       "output_type": "stream",
       "stream": "stdout",
       "text": [
        "\niteration 200 / 1500: loss 152369.306900"
       ]
      },
      {
       "output_type": "stream",
       "stream": "stdout",
       "text": [
        "\niteration 300 / 1500: loss 151516.596588"
       ]
      },
      {
       "output_type": "stream",
       "stream": "stdout",
       "text": [
        "\niteration 400 / 1500: loss 150749.370022"
       ]
      },
      {
       "output_type": "stream",
       "stream": "stdout",
       "text": [
        "\niteration 500 / 1500: loss 150074.926337"
       ]
      },
      {
       "output_type": "stream",
       "stream": "stdout",
       "text": [
        "\niteration 600 / 1500: loss 149450.977415"
       ]
      },
      {
       "output_type": "stream",
       "stream": "stdout",
       "text": [
        "\niteration 700 / 1500: loss 148877.402376"
       ]
      },
      {
       "output_type": "stream",
       "stream": "stdout",
       "text": [
        "\niteration 800 / 1500: loss 148343.426534"
       ]
      },
      {
       "output_type": "stream",
       "stream": "stdout",
       "text": [
        "\niteration 900 / 1500: loss 147857.226358"
       ]
      },
      {
       "output_type": "stream",
       "stream": "stdout",
       "text": [
        "\niteration 1000 / 1500: loss 147398.106950"
       ]
      },
      {
       "output_type": "stream",
       "stream": "stdout",
       "text": [
        "\niteration 1100 / 1500: loss 146954.540187"
       ]
      },
      {
       "output_type": "stream",
       "stream": "stdout",
       "text": [
        "\niteration 1200 / 1500: loss 146536.104179"
       ]
      },
      {
       "output_type": "stream",
       "stream": "stdout",
       "text": [
        "\niteration 1300 / 1500: loss 146143.228540"
       ]
      },
      {
       "output_type": "stream",
       "stream": "stdout",
       "text": [
        "\niteration 1400 / 1500: loss 145783.261346"
       ]
      },
      {
       "output_type": "stream",
       "stream": "stdout",
       "text": [
        "\niteration 0 / 1500: loss 1541732.842852"
       ]
      },
      {
       "output_type": "stream",
       "stream": "stdout",
       "text": [
        "\niteration 100 / 1500: loss 1524909.253256"
       ]
      },
      {
       "output_type": "stream",
       "stream": "stdout",
       "text": [
        "\niteration 200 / 1500: loss 1515230.291866"
       ]
      },
      {
       "output_type": "stream",
       "stream": "stdout",
       "text": [
        "\niteration 300 / 1500: loss 1507429.652495"
       ]
      },
      {
       "output_type": "stream",
       "stream": "stdout",
       "text": [
        "\niteration 400 / 1500: loss 1500485.569352"
       ]
      },
      {
       "output_type": "stream",
       "stream": "stdout",
       "text": [
        "\niteration 500 / 1500: loss 1494288.948403"
       ]
      },
      {
       "output_type": "stream",
       "stream": "stdout",
       "text": [
        "\niteration 600 / 1500: loss 1488539.838598"
       ]
      },
      {
       "output_type": "stream",
       "stream": "stdout",
       "text": [
        "\niteration 700 / 1500: loss 1483356.364140"
       ]
      },
      {
       "output_type": "stream",
       "stream": "stdout",
       "text": [
        "\niteration 800 / 1500: loss 1478467.066018"
       ]
      },
      {
       "output_type": "stream",
       "stream": "stdout",
       "text": [
        "\niteration 900 / 1500: loss 1474013.872154"
       ]
      },
      {
       "output_type": "stream",
       "stream": "stdout",
       "text": [
        "\niteration 1000 / 1500: loss 1469668.750009"
       ]
      },
      {
       "output_type": "stream",
       "stream": "stdout",
       "text": [
        "\niteration 1100 / 1500: loss 1465501.233410"
       ]
      },
      {
       "output_type": "stream",
       "stream": "stdout",
       "text": [
        "\niteration 1200 / 1500: loss 1461660.177389"
       ]
      },
      {
       "output_type": "stream",
       "stream": "stdout",
       "text": [
        "\niteration 1300 / 1500: loss 1457786.377166"
       ]
      },
      {
       "output_type": "stream",
       "stream": "stdout",
       "text": [
        "\niteration 1400 / 1500: loss 1454192.886878"
       ]
      },
      {
       "output_type": "stream",
       "stream": "stdout",
       "text": [
        "\niteration 0 / 1500: loss 15339.601027"
       ]
      },
      {
       "output_type": "stream",
       "stream": "stdout",
       "text": [
        "\niteration 100 / 1500: loss 15147.960660"
       ]
      },
      {
       "output_type": "stream",
       "stream": "stdout",
       "text": [
        "\niteration 200 / 1500: loss 15030.053154"
       ]
      },
      {
       "output_type": "stream",
       "stream": "stdout",
       "text": [
        "\niteration 300 / 1500: loss 14933.196927"
       ]
      },
      {
       "output_type": "stream",
       "stream": "stdout",
       "text": [
        "\niteration 400 / 1500: loss 14849.699859"
       ]
      },
      {
       "output_type": "stream",
       "stream": "stdout",
       "text": [
        "\niteration 500 / 1500: loss 14773.680832"
       ]
      },
      {
       "output_type": "stream",
       "stream": "stdout",
       "text": [
        "\niteration 600 / 1500: loss 14705.615182"
       ]
      },
      {
       "output_type": "stream",
       "stream": "stdout",
       "text": [
        "\niteration 700 / 1500: loss 14640.447457"
       ]
      },
      {
       "output_type": "stream",
       "stream": "stdout",
       "text": [
        "\niteration 800 / 1500: loss 14584.234961"
       ]
      },
      {
       "output_type": "stream",
       "stream": "stdout",
       "text": [
        "\niteration 900 / 1500: loss 14530.180363"
       ]
      },
      {
       "output_type": "stream",
       "stream": "stdout",
       "text": [
        "\niteration 1000 / 1500: loss 14478.896367"
       ]
      },
      {
       "output_type": "stream",
       "stream": "stdout",
       "text": [
        "\niteration 1100 / 1500: loss 14431.313921"
       ]
      },
      {
       "output_type": "stream",
       "stream": "stdout",
       "text": [
        "\niteration 1200 / 1500: loss 14386.444574"
       ]
      },
      {
       "output_type": "stream",
       "stream": "stdout",
       "text": [
        "\niteration 1300 / 1500: loss 14344.076365"
       ]
      },
      {
       "output_type": "stream",
       "stream": "stdout",
       "text": [
        "\niteration 1400 / 1500: loss 14304.076300"
       ]
      },
      {
       "output_type": "stream",
       "stream": "stdout",
       "text": [
        "\niteration 0 / 1500: loss 152013.247629"
       ]
      },
      {
       "output_type": "stream",
       "stream": "stdout",
       "text": [
        "\niteration 100 / 1500: loss 150200.682364"
       ]
      },
      {
       "output_type": "stream",
       "stream": "stdout",
       "text": [
        "\niteration 200 / 1500: loss 149039.733613"
       ]
      },
      {
       "output_type": "stream",
       "stream": "stdout",
       "text": [
        "\niteration 300 / 1500: loss 148074.782473"
       ]
      },
      {
       "output_type": "stream",
       "stream": "stdout",
       "text": [
        "\niteration 400 / 1500: loss 147249.881080"
       ]
      },
      {
       "output_type": "stream",
       "stream": "stdout",
       "text": [
        "\niteration 500 / 1500: loss 146510.242628"
       ]
      },
      {
       "output_type": "stream",
       "stream": "stdout",
       "text": [
        "\niteration 600 / 1500: loss 145834.107017"
       ]
      },
      {
       "output_type": "stream",
       "stream": "stdout",
       "text": [
        "\niteration 700 / 1500: loss 145217.283209"
       ]
      },
      {
       "output_type": "stream",
       "stream": "stdout",
       "text": [
        "\niteration 800 / 1500: loss 144635.723006"
       ]
      },
      {
       "output_type": "stream",
       "stream": "stdout",
       "text": [
        "\niteration 900 / 1500: loss 144112.186484"
       ]
      },
      {
       "output_type": "stream",
       "stream": "stdout",
       "text": [
        "\niteration 1000 / 1500: loss 143601.008897"
       ]
      },
      {
       "output_type": "stream",
       "stream": "stdout",
       "text": [
        "\niteration 1100 / 1500: loss 143118.365505"
       ]
      },
      {
       "output_type": "stream",
       "stream": "stdout",
       "text": [
        "\niteration 1200 / 1500: loss 142672.938199"
       ]
      },
      {
       "output_type": "stream",
       "stream": "stdout",
       "text": [
        "\niteration 1300 / 1500: loss 142251.557978"
       ]
      },
      {
       "output_type": "stream",
       "stream": "stdout",
       "text": [
        "\niteration 1400 / 1500: loss 141859.454526"
       ]
      },
      {
       "output_type": "stream",
       "stream": "stdout",
       "text": [
        "\niteration 0 / 1500: loss 1525436.012343"
       ]
      },
      {
       "output_type": "stream",
       "stream": "stdout",
       "text": [
        "\niteration 100 / 1500: loss 1507100.311312"
       ]
      },
      {
       "output_type": "stream",
       "stream": "stdout",
       "text": [
        "\niteration 200 / 1500: loss 1495423.932966"
       ]
      },
      {
       "output_type": "stream",
       "stream": "stdout",
       "text": [
        "\niteration 300 / 1500: loss 1485987.931123"
       ]
      },
      {
       "output_type": "stream",
       "stream": "stdout",
       "text": [
        "\niteration 400 / 1500: loss 1477710.054670"
       ]
      },
      {
       "output_type": "stream",
       "stream": "stdout",
       "text": [
        "\niteration 500 / 1500: loss 1470293.882674"
       ]
      },
      {
       "output_type": "stream",
       "stream": "stdout",
       "text": [
        "\niteration 600 / 1500: loss 1463477.276617"
       ]
      },
      {
       "output_type": "stream",
       "stream": "stdout",
       "text": [
        "\niteration 700 / 1500: loss 1457348.284881"
       ]
      },
      {
       "output_type": "stream",
       "stream": "stdout",
       "text": [
        "\niteration 800 / 1500: loss 1451584.068956"
       ]
      },
      {
       "output_type": "stream",
       "stream": "stdout",
       "text": [
        "\niteration 900 / 1500: loss 1446128.359651"
       ]
      },
      {
       "output_type": "stream",
       "stream": "stdout",
       "text": [
        "\niteration 1000 / 1500: loss 1441043.187580"
       ]
      },
      {
       "output_type": "stream",
       "stream": "stdout",
       "text": [
        "\niteration 1100 / 1500: loss 1436175.219377"
       ]
      },
      {
       "output_type": "stream",
       "stream": "stdout",
       "text": [
        "\niteration 1200 / 1500: loss 1431653.883429"
       ]
      },
      {
       "output_type": "stream",
       "stream": "stdout",
       "text": [
        "\niteration 1300 / 1500: loss 1427379.155398"
       ]
      },
      {
       "output_type": "stream",
       "stream": "stdout",
       "text": [
        "\niteration 1400 / 1500: loss 1423242.915367"
       ]
      },
      {
       "output_type": "stream",
       "stream": "stdout",
       "text": [
        "\nlr 7.000000e-07 reg 1.000000e+06 train accuracy: 0.337551 val accuracy: 0.340000"
       ]
      },
      {
       "output_type": "stream",
       "stream": "stdout",
       "text": [
        "\nlr 7.000000e-07 reg 1.000000e+07 train accuracy: 0.334673 val accuracy: 0.337000\nlr 7.000000e-07 reg 1.000000e+08 train accuracy: 0.335163 val accuracy: 0.310000\nlr 9.000000e-07 reg 1.000000e+06 train accuracy: 0.343388 val accuracy: 0.327000\nlr 9.000000e-07 reg 1.000000e+07 train accuracy: 0.342000 val accuracy: 0.338000\nlr 9.000000e-07 reg 1.000000e+08 train accuracy: 0.342571 val accuracy: 0.338000\nbest validation accuracy achieved during cross-validation: 0.340000\n"
       ]
      }
     ],
     "input": [
      "# Use the validation set to tune hyperparameters (regularization strength and\n",
      "# learning rate). You should experiment with different ranges for the learning\n",
      "# rates and regularization strengths; if you are careful you should be able to\n",
      "# get a classification accuracy of over 0.35 on the validation set.\n",
      "from cs231n.classifiers import Softmax\n",
      "results = {}\n",
      "best_val = -1\n",
      "best_softmax = None\n",
      "learning_rates = [7e-7, 9e-7]\n",
      "regularization_strengths = [1e6, 1e7, 1e8]\n",
      "\n",
      "################################################################################\n",
      "# TODO:                                                                        #\n",
      "# Use the validation set to set the learning rate and regularization strength. #\n",
      "# This should be identical to the validation that you did for the SVM; save    #\n",
      "# the best trained softmax classifer in best_softmax.                          #\n",
      "################################################################################\n",
      "best_softmax = Softmax()\n",
      "for i in learning_rates:\n",
      "\tfor j in regularization_strengths:\n",
      "\t\tresults[(i, j)] = []\n",
      "\t\tsoftmax = Softmax()\n",
      "\t\tsoftmax.train(X_train, y_train, i, j, num_iters=1500, verbose=True)\n",
      "\t\ty_train_pred = softmax.predict(X_train)\n",
      "\t\ttrain_accuracy = np.mean(y_train == y_train_pred)\n",
      "\t\tresults[(i, j)].append(train_accuracy)\n",
      "\t\t\n",
      "\t\ty_val_pred = softmax.predict(X_val)\n",
      "\t\tval_accuracy = np.mean(y_val == y_val_pred)\n",
      "\t\tresults[(i, j)].append(val_accuracy)\n",
      "\t\t\n",
      "\t\tif val_accuracy > best_val:\n",
      "\t\t\tbest_val = val_accuracy\n",
      "\t\t\tbest_softmax = softmax\n",
      "################################################################################\n",
      "#                              END OF YOUR CODE                                #\n",
      "################################################################################\n",
      "    \n",
      "# Print out results.\n",
      "for lr, reg in sorted(results):\n",
      "    train_accuracy, val_accuracy = results[(lr, reg)]\n",
      "    print 'lr %e reg %e train accuracy: %f val accuracy: %f' % (\n",
      "                lr, reg, train_accuracy, val_accuracy)\n",
      "    \n",
      "print 'best validation accuracy achieved during cross-validation: %f' % best_val"
     ],
     "language": "python",
     "prompt_number": 25
    },
    {
     "cell_type": "code",
     "execution_count": null,
     "metadata": {},
     "outputs": [
      {
       "output_type": "stream",
       "stream": "stdout",
       "text": [
        "softmax on raw pixels final test set accuracy: 0.334000\n"
       ]
      }
     ],
     "input": [
      "# evaluate on test set\n",
      "# Evaluate the best svm on test set\n",
      "y_test_pred = best_softmax.predict(X_test)\n",
      "test_accuracy = np.mean(y_test == y_test_pred)\n",
      "print 'softmax on raw pixels final test set accuracy: %f' % (test_accuracy, )"
     ],
     "language": "python",
     "prompt_number": 26
    },
    {
     "cell_type": "code",
     "execution_count": null,
     "metadata": {},
     "outputs": [
      {
       "output_type": "display_data",
       "png": "[encoded data removed]",
       "text": [
        "<matplotlib.figure.Figure at 0x110601b50>"
       ],
       "metadata": {}
      }
     ],
     "input": [
      "# Visualize the learned weights for each class\n",
      "w = best_softmax.W[:,:-1] # strip out the bias\n",
      "w = w.reshape(10, 32, 32, 3)\n",
      "\n",
      "w_min, w_max = np.min(w), np.max(w)\n",
      "\n",
      "classes = ['plane', 'car', 'bird', 'cat', 'deer', 'dog', 'frog', 'horse', 'ship', 'truck']\n",
      "for i in xrange(10):\n",
      "  plt.subplot(2, 5, i + 1)\n",
      "  \n",
      "  # Rescale the weights to be between 0 and 255\n",
      "  wimg = 255.0 * (w[i].squeeze() - w_min) / (w_max - w_min)\n",
      "  plt.imshow(wimg.astype('uint8'))\n",
      "  plt.axis('off')\n",
      "  plt.title(classes[i])"
     ],
     "language": "python",
     "prompt_number": 28
    },
    {
     "cell_type": "code",
     "execution_count": null,
     "metadata": {},
     "outputs": [],
     "input": [
      ""
     ],
     "language": "python"
    }
   ]
  }
 ],
 "cells": [],
 "metadata": {
  "name": "",
  "signature": "sha256:688ae899db8141fc92e6b104f646b74c2d597582744e909113e958aa972b250c"
 },
 "nbformat": 3,
 "nbformat_minor": 0
}